{
 "cells": [
  {
   "cell_type": "markdown",
   "id": "23ccc727-4329-43ba-a432-445948175215",
   "metadata": {},
   "source": [
    "## first: import this lib"
   ]
  },
  {
   "cell_type": "code",
   "execution_count": 8,
   "id": "9df35133-2ecb-474a-bdf2-3dc10f7eab14",
   "metadata": {},
   "outputs": [],
   "source": [
    "from matplotlib.image import imread"
   ]
  },
  {
   "cell_type": "markdown",
   "id": "d539e28c-75fe-427e-9982-da1e619d15f6",
   "metadata": {},
   "source": [
    "### scond read your pic from you folder in notebook home \n",
    "### note: for run this bloc you have to be on markdown mood"
   ]
  },
  {
   "cell_type": "markdown",
   "id": "2768a1e8-0dc6-4e80-9088-d153176a0b02",
   "metadata": {},
   "source": [
    "<img src =\"images/1.jpg\" width = 250 height =100/>"
   ]
  },
  {
   "cell_type": "markdown",
   "id": "09745773-7333-4cbe-a196-830ad404a32d",
   "metadata": {},
   "source": [
    "### finaly you can use this function to convert your image to array"
   ]
  },
  {
   "cell_type": "code",
   "execution_count": 13,
   "id": "1d8aea3b-3539-45b5-9137-cc66072fd578",
   "metadata": {},
   "outputs": [
    {
     "data": {
      "text/plain": [
       "array([[[35, 67, 30],\n",
       "        [49, 81, 44],\n",
       "        [51, 83, 44],\n",
       "        ...,\n",
       "        [ 7,  7,  9],\n",
       "        [ 9,  7, 10],\n",
       "        [ 9,  7,  8]],\n",
       "\n",
       "       [[43, 75, 38],\n",
       "        [48, 80, 43],\n",
       "        [46, 78, 39],\n",
       "        ...,\n",
       "        [ 4,  4,  6],\n",
       "        [12, 10, 11],\n",
       "        [18, 16, 17]],\n",
       "\n",
       "       [[54, 86, 49],\n",
       "        [49, 81, 42],\n",
       "        [42, 74, 35],\n",
       "        ...,\n",
       "        [ 3,  3,  3],\n",
       "        [15, 15, 15],\n",
       "        [28, 26, 27]],\n",
       "\n",
       "       ...,\n",
       "\n",
       "       [[ 0, 33,  2],\n",
       "        [ 7, 41,  8],\n",
       "        [16, 50, 15],\n",
       "        ...,\n",
       "        [ 4,  3,  1],\n",
       "        [ 5,  4,  2],\n",
       "        [ 5,  4,  2]],\n",
       "\n",
       "       [[ 3, 36,  5],\n",
       "        [ 0, 34,  1],\n",
       "        [ 0, 30,  0],\n",
       "        ...,\n",
       "        [ 4,  3,  1],\n",
       "        [ 5,  4,  2],\n",
       "        [ 5,  4,  2]],\n",
       "\n",
       "       [[ 3, 36,  5],\n",
       "        [ 6, 40,  7],\n",
       "        [ 3, 37,  2],\n",
       "        ...,\n",
       "        [ 4,  3,  1],\n",
       "        [ 5,  4,  2],\n",
       "        [ 5,  4,  2]]], dtype=uint8)"
      ]
     },
     "execution_count": 13,
     "metadata": {},
     "output_type": "execute_result"
    }
   ],
   "source": [
    "my_first_image = imread(\"images/1.jpg\")\n",
    "my_first_image"
   ]
  },
  {
   "cell_type": "code",
   "execution_count": 14,
   "id": "0795b5fd-39ac-470b-b0b0-983ad01d6257",
   "metadata": {},
   "outputs": [
    {
     "data": {
      "text/plain": [
       "(4070250, (1350, 1005, 3), 3)"
      ]
     },
     "execution_count": 14,
     "metadata": {},
     "output_type": "execute_result"
    }
   ],
   "source": [
    "my_first_image.size, my_first_image.shape, my_first_image.ndim"
   ]
  },
  {
   "cell_type": "markdown",
   "id": "1cc65877-2d3f-4a65-b580-59dc25877896",
   "metadata": {},
   "source": [
    "<img src =\"images/2.jpg\" width = 250 height =100/>"
   ]
  },
  {
   "cell_type": "code",
   "execution_count": null,
   "id": "f2644a3d-f89e-4be0-8136-c15761b0cd9e",
   "metadata": {},
   "outputs": [],
   "source": []
  }
 ],
 "metadata": {
  "kernelspec": {
   "display_name": "Python 3 (ipykernel)",
   "language": "python",
   "name": "python3"
  },
  "language_info": {
   "codemirror_mode": {
    "name": "ipython",
    "version": 3
   },
   "file_extension": ".py",
   "mimetype": "text/x-python",
   "name": "python",
   "nbconvert_exporter": "python",
   "pygments_lexer": "ipython3",
   "version": "3.11.7"
  }
 },
 "nbformat": 4,
 "nbformat_minor": 5
}
